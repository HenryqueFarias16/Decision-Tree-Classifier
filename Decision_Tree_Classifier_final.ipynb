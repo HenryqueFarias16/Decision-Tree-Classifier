{
  "nbformat": 4,
  "nbformat_minor": 0,
  "metadata": {
    "colab": {
      "name": "Decision Tree Classifier final.ipynb",
      "provenance": [],
      "collapsed_sections": [],
      "authorship_tag": "ABX9TyNycZcBnVmMyBghEsFjW4yn"
    },
    "kernelspec": {
      "name": "python3",
      "display_name": "Python 3"
    }
  },
  "cells": [
    {
      "cell_type": "code",
      "metadata": {
        "id": "3V0ZTbE9a_rJ",
        "colab_type": "code",
        "colab": {}
      },
      "source": [
        "##importar bibliotecas\n",
        "import pandas as pd                 \n",
        "import numpy as np\n",
        "#Para a árvore de decisão\n",
        "from sklearn import tree            \n",
        "from sklearn.metrics import classification_report, confusion_matrix\n",
        "#plotagem\n",
        "import pydotplus         \n",
        "from IPython.display import Image  \n",
        "#carregar dataset\n",
        "import glob                        \n",
        "from google.colab import files     \n",
        "#temporizador\n",
        "import time\n",
        "from functools import wraps"
      ],
      "execution_count": 245,
      "outputs": []
    },
    {
      "cell_type": "code",
      "metadata": {
        "id": "YAsltFjyhySV",
        "colab_type": "code",
        "colab": {}
      },
      "source": [
        "#para carregar novo arquivo descomente este codigo e comente o proximo \n",
        "\"\"\"uploaded = files.upload() \n",
        "for fn in uploaded.keys():            \n",
        "  start_time = time.time()\n",
        "  all_filenames = [i for i in glob.glob('*.{}'.format('csv'))]\n",
        "#combinar todos os arquivos na lista\n",
        "start_time = time.time()\n",
        "BD_csv = pd.concat([pd.read_csv(f, sep=';') for f in all_filenames ])\n",
        "time_Dataset = time.time() - start_time\"\"\""
      ],
      "execution_count": null,
      "outputs": []
    },
    {
      "cell_type": "code",
      "metadata": {
        "id": "Fr-OQxvBbHmE",
        "colab_type": "code",
        "colab": {}
      },
      "source": [
        "#carregar base de dados ja existente \n",
        "start_time = time.time()\n",
        "BD_csv = pd.read_csv(\"TcaixasALP.csv\", delimiter =';')\n",
        "time_Dataset = time.time() - start_time"
      ],
      "execution_count": 246,
      "outputs": []
    },
    {
      "cell_type": "code",
      "metadata": {
        "id": "gyciaKdLeA-6",
        "colab_type": "code",
        "colab": {}
      },
      "source": [
        "#calculando volume \n",
        "start_time = time.time()\n",
        "a = BD_csv.iloc[:,0].values\n",
        "l = BD_csv.iloc[:,1].values\n",
        "p = BD_csv.iloc[:,2].values\n",
        "v = a*l*p\n",
        "BD_csv.insert(loc=4, column='volume', value = v)\n",
        "time_volume = time.time() - start_time"
      ],
      "execution_count": 247,
      "outputs": []
    },
    {
      "cell_type": "code",
      "metadata": {
        "id": "wcJJIVc9blxD",
        "colab_type": "code",
        "colab": {}
      },
      "source": [
        "#atribuido colunas do DataFrame para os algoritmo\n",
        "start_time = time.time()\n",
        "X= BD_csv[['volume']]\n",
        "y = BD_csv[['Saida']]\n",
        "time_data = time.time() - start_time"
      ],
      "execution_count": 248,
      "outputs": []
    },
    {
      "cell_type": "code",
      "metadata": {
        "id": "qD6A6i6Yb1z6",
        "colab_type": "code",
        "colab": {}
      },
      "source": [
        "# O classificador da árvore de decisão.\n",
        "start_time = time.time()\n",
        "DTC = tree.DecisionTreeClassifier(random_state=1986,criterion='gini', max_depth=3)\n",
        "time_DTC = time.time() - start_time"
      ],
      "execution_count": 249,
      "outputs": []
    },
    {
      "cell_type": "code",
      "metadata": {
        "id": "V-_le1pOZfGq",
        "colab_type": "code",
        "colab": {}
      },
      "source": [
        "# Treinando a árvore de decisão\n",
        "start_time = time.time()\n",
        "X_train, X_test, y_train, y_test = train_test_split(X, y, test_size=0.3)\n",
        "DTC_train = DTC.fit(X_train,  y_train)\n",
        "time_Train_Test_sets = time.time() - start_time"
      ],
      "execution_count": 259,
      "outputs": []
    },
    {
      "cell_type": "code",
      "metadata": {
        "id": "1c-Iq2lwccP2",
        "colab_type": "code",
        "colab": {}
      },
      "source": [
        "start_time = time.time()\n",
        "#Imprimir uma árvore de decisão no formato DOT.\n",
        "print(tree.export_graphviz(DTC_train, out_file=None, feature_names=list(BD_csv[['Saida']]),class_names=['grande', 'media', 'pequena'], rounded=True, filled=True,precision=2))\n",
        "#Criar dados de ponto\n",
        "dot_data = tree.export_graphviz(DTC_train, out_file=None, feature_names=list(BD_csv[['Saida']]),class_names=['grande', 'media', 'pequena'], rounded=True, filled=True,precision=2)\n",
        "#Criar gráfico a partir de dados do DOT\n",
        "graph = pydotplus.graph_from_dot_data(dot_data)\n",
        "time_graph = time.time() - start_time\n",
        "# Mostrar gráfico\n",
        "Image(graph.create_png())"
      ],
      "execution_count": null,
      "outputs": []
    },
    {
      "cell_type": "code",
      "metadata": {
        "id": "slbNsXYVycVC",
        "colab_type": "code",
        "colab": {}
      },
      "source": [
        "#predição do teste\n",
        "start_time = time.time()\n",
        "prediction = DTC.predict(X_test)\n",
        "from sklearn.metrics import classification_report, confusion_matrix\n",
        "#print(confusion_matrix(y_test,prediction))\n",
        "print(classification_report(y_test,prediction))\n",
        "time_prediction = time.time() - start_time"
      ],
      "execution_count": null,
      "outputs": []
    },
    {
      "cell_type": "code",
      "metadata": {
        "id": "bRAIFjECYf1H",
        "colab_type": "code",
        "colab": {}
      },
      "source": [
        "#tempo de cada execução do algoritmo\n",
        "print(\"Load Dataset: %.4f\" % time_Dataset, \"segundos.\")\n",
        "print(\"calculating volume: %.4f\" % time_volume, \"segundos.\")\n",
        "print(\"assigned DataFrame columns to the algorithm: %.4f\" % time_data, \"segundos.\")\n",
        "print(\"DecisionTreeClassifier: %.4f\" % time_DTC, \"segundos.\")\n",
        "print(\"Split Train Test sets: %.4f\" % time_Train_Test_sets, \"segundos.\")\n",
        "print(\"Print a decision tree: %.4f\" % time_graph, \"segundos.\")\n",
        "print(\"prediction Test: %.4f\" % time_prediction, \"segundos.\")\n"
      ],
      "execution_count": null,
      "outputs": []
    }
  ]
}